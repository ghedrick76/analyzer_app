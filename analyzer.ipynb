{
 "cells": [
  {
   "cell_type": "code",
   "execution_count": 1,
   "id": "99682c4b-0354-49ce-a3e0-a287de7d4fd5",
   "metadata": {},
   "outputs": [],
   "source": [
    "import hvplot\n",
    "import numpy as np\n",
    "import pandas as pd\n",
    "from functions import *\n",
    "%matplotlib inline\n"
   ]
  },
  {
   "cell_type": "code",
   "execution_count": 2,
   "id": "c648f4b6-f62f-4bd8-9122-4480c7babfac",
   "metadata": {},
   "outputs": [],
   "source": [
    "#dow_jones = dow_jones()"
   ]
  },
  {
   "cell_type": "code",
   "execution_count": 3,
   "id": "e4377163-e5a9-4c49-a099-ebaab7a440dd",
   "metadata": {},
   "outputs": [],
   "source": [
    "#dow_jones = close(dow_jones)"
   ]
  },
  {
   "cell_type": "code",
   "execution_count": 4,
   "id": "253d0a88-8278-4109-b74b-b6c9e521d82a",
   "metadata": {},
   "outputs": [],
   "source": [
    "#dow_jones.plot()"
   ]
  },
  {
   "cell_type": "code",
   "execution_count": 5,
   "id": "fac4b292-6254-48b8-8216-95586bc89a45",
   "metadata": {},
   "outputs": [
    {
     "name": "stdout",
     "output_type": "stream",
     "text": [
      "[*********************100%***********************]  1 of 1 completed\n"
     ]
    },
    {
     "data": {
      "text/html": [
       "<div>\n",
       "<style scoped>\n",
       "    .dataframe tbody tr th:only-of-type {\n",
       "        vertical-align: middle;\n",
       "    }\n",
       "\n",
       "    .dataframe tbody tr th {\n",
       "        vertical-align: top;\n",
       "    }\n",
       "\n",
       "    .dataframe thead th {\n",
       "        text-align: right;\n",
       "    }\n",
       "</style>\n",
       "<table border=\"1\" class=\"dataframe\">\n",
       "  <thead>\n",
       "    <tr style=\"text-align: right;\">\n",
       "      <th></th>\n",
       "      <th>Open</th>\n",
       "      <th>High</th>\n",
       "      <th>Low</th>\n",
       "      <th>Close</th>\n",
       "      <th>Adj Close</th>\n",
       "      <th>Volume</th>\n",
       "    </tr>\n",
       "    <tr>\n",
       "      <th>Date</th>\n",
       "      <th></th>\n",
       "      <th></th>\n",
       "      <th></th>\n",
       "      <th></th>\n",
       "      <th></th>\n",
       "      <th></th>\n",
       "    </tr>\n",
       "  </thead>\n",
       "  <tbody>\n",
       "    <tr>\n",
       "      <th>2012-08-27</th>\n",
       "      <td>141.889999</td>\n",
       "      <td>142.080002</td>\n",
       "      <td>141.339996</td>\n",
       "      <td>141.539993</td>\n",
       "      <td>117.118752</td>\n",
       "      <td>68785900</td>\n",
       "    </tr>\n",
       "    <tr>\n",
       "      <th>2012-08-28</th>\n",
       "      <td>141.179993</td>\n",
       "      <td>141.839996</td>\n",
       "      <td>140.970001</td>\n",
       "      <td>141.399994</td>\n",
       "      <td>117.002914</td>\n",
       "      <td>75689600</td>\n",
       "    </tr>\n",
       "    <tr>\n",
       "      <th>2012-08-29</th>\n",
       "      <td>141.520004</td>\n",
       "      <td>141.889999</td>\n",
       "      <td>141.119995</td>\n",
       "      <td>141.509995</td>\n",
       "      <td>117.093910</td>\n",
       "      <td>65421300</td>\n",
       "    </tr>\n",
       "    <tr>\n",
       "      <th>2012-08-30</th>\n",
       "      <td>140.899994</td>\n",
       "      <td>140.940002</td>\n",
       "      <td>140.190002</td>\n",
       "      <td>140.490005</td>\n",
       "      <td>116.249939</td>\n",
       "      <td>96589900</td>\n",
       "    </tr>\n",
       "    <tr>\n",
       "      <th>2012-08-31</th>\n",
       "      <td>141.289993</td>\n",
       "      <td>141.820007</td>\n",
       "      <td>140.360001</td>\n",
       "      <td>141.160004</td>\n",
       "      <td>116.804314</td>\n",
       "      <td>151970400</td>\n",
       "    </tr>\n",
       "    <tr>\n",
       "      <th>...</th>\n",
       "      <td>...</td>\n",
       "      <td>...</td>\n",
       "      <td>...</td>\n",
       "      <td>...</td>\n",
       "      <td>...</td>\n",
       "      <td>...</td>\n",
       "    </tr>\n",
       "    <tr>\n",
       "      <th>2022-08-18</th>\n",
       "      <td>426.859985</td>\n",
       "      <td>428.609985</td>\n",
       "      <td>425.500000</td>\n",
       "      <td>427.890015</td>\n",
       "      <td>427.890015</td>\n",
       "      <td>49023200</td>\n",
       "    </tr>\n",
       "    <tr>\n",
       "      <th>2022-08-19</th>\n",
       "      <td>424.980011</td>\n",
       "      <td>425.260010</td>\n",
       "      <td>421.220001</td>\n",
       "      <td>422.140015</td>\n",
       "      <td>422.140015</td>\n",
       "      <td>67934700</td>\n",
       "    </tr>\n",
       "    <tr>\n",
       "      <th>2022-08-22</th>\n",
       "      <td>417.049988</td>\n",
       "      <td>417.230011</td>\n",
       "      <td>412.399994</td>\n",
       "      <td>413.350006</td>\n",
       "      <td>413.350006</td>\n",
       "      <td>77695600</td>\n",
       "    </tr>\n",
       "    <tr>\n",
       "      <th>2022-08-23</th>\n",
       "      <td>412.899994</td>\n",
       "      <td>415.420013</td>\n",
       "      <td>411.769989</td>\n",
       "      <td>412.350006</td>\n",
       "      <td>412.350006</td>\n",
       "      <td>49105200</td>\n",
       "    </tr>\n",
       "    <tr>\n",
       "      <th>2022-08-24</th>\n",
       "      <td>412.109985</td>\n",
       "      <td>415.109985</td>\n",
       "      <td>411.390015</td>\n",
       "      <td>413.670013</td>\n",
       "      <td>413.670013</td>\n",
       "      <td>49106000</td>\n",
       "    </tr>\n",
       "  </tbody>\n",
       "</table>\n",
       "<p>2515 rows × 6 columns</p>\n",
       "</div>"
      ],
      "text/plain": [
       "                  Open        High         Low       Close   Adj Close  \\\n",
       "Date                                                                     \n",
       "2012-08-27  141.889999  142.080002  141.339996  141.539993  117.118752   \n",
       "2012-08-28  141.179993  141.839996  140.970001  141.399994  117.002914   \n",
       "2012-08-29  141.520004  141.889999  141.119995  141.509995  117.093910   \n",
       "2012-08-30  140.899994  140.940002  140.190002  140.490005  116.249939   \n",
       "2012-08-31  141.289993  141.820007  140.360001  141.160004  116.804314   \n",
       "...                ...         ...         ...         ...         ...   \n",
       "2022-08-18  426.859985  428.609985  425.500000  427.890015  427.890015   \n",
       "2022-08-19  424.980011  425.260010  421.220001  422.140015  422.140015   \n",
       "2022-08-22  417.049988  417.230011  412.399994  413.350006  413.350006   \n",
       "2022-08-23  412.899994  415.420013  411.769989  412.350006  412.350006   \n",
       "2022-08-24  412.109985  415.109985  411.390015  413.670013  413.670013   \n",
       "\n",
       "               Volume  \n",
       "Date                   \n",
       "2012-08-27   68785900  \n",
       "2012-08-28   75689600  \n",
       "2012-08-29   65421300  \n",
       "2012-08-30   96589900  \n",
       "2012-08-31  151970400  \n",
       "...               ...  \n",
       "2022-08-18   49023200  \n",
       "2022-08-19   67934700  \n",
       "2022-08-22   77695600  \n",
       "2022-08-23   49105200  \n",
       "2022-08-24   49106000  \n",
       "\n",
       "[2515 rows x 6 columns]"
      ]
     },
     "execution_count": 5,
     "metadata": {},
     "output_type": "execute_result"
    }
   ],
   "source": [
    "spy()"
   ]
  },
  {
   "cell_type": "code",
   "execution_count": 6,
   "id": "913bf70c-5e48-4653-9e96-6fdab574cd3d",
   "metadata": {},
   "outputs": [],
   "source": [
    "gme = stock(\"GME\")\n",
    "goog = stock(\"GOOG\")\n",
    "tsla = stock(\"TSLA\")"
   ]
  },
  {
   "cell_type": "code",
   "execution_count": 7,
   "id": "72fdf8aa-071d-440a-8eef-dc8f778391e2",
   "metadata": {},
   "outputs": [
    {
     "name": "stdout",
     "output_type": "stream",
     "text": [
      "[*********************100%***********************]  1 of 1 completed\n"
     ]
    },
    {
     "data": {
      "text/plain": [
       "<AxesSubplot:xlabel='Date'>"
      ]
     },
     "execution_count": 7,
     "metadata": {},
     "output_type": "execute_result"
    },
    {
     "data": {
      "image/png": "[encoded data removed]",
      "text/plain": [
       "<Figure size 432x288 with 1 Axes>"
      ]
     },
     "metadata": {
      "needs_background": "light"
     },
     "output_type": "display_data"
    }
   ],
   "source": [
    "#gme = close(gme)\n",
    "#goog = close(goog)\n",
    "\n",
    "close2(\"BBBY\")"
   ]
  },
  {
   "cell_type": "code",
   "execution_count": null,
   "id": "733291de-3fd0-4301-894b-e736b77eb57b",
   "metadata": {},
   "outputs": [],
   "source": []
  },
  {
   "cell_type": "code",
   "execution_count": null,
   "id": "92a008c6-7244-41cb-ac04-3b02d7c8d20c",
   "metadata": {},
   "outputs": [],
   "source": []
  }
 ],
 "metadata": {
  "kernelspec": {
   "display_name": "Python 3 (ipykernel)",
   "language": "python",
   "name": "python3"
  },
  "language_info": {
   "codemirror_mode": {
    "name": "ipython",
    "version": 3
   },
   "file_extension": ".py",
   "mimetype": "text/x-python",
   "name": "python",
   "nbconvert_exporter": "python",
   "pygments_lexer": "ipython3",
   "version": "3.9.7"
  }
 },
 "nbformat": 4,
 "nbformat_minor": 5
}
