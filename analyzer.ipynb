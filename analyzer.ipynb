{
 "cells": [
  {
   "cell_type": "code",
   "execution_count": 1,
   "id": "99682c4b-0354-49ce-a3e0-a287de7d4fd5",
   "metadata": {},
   "outputs": [],
   "source": [
    "import hvplot\n",
    "import numpy as np\n",
    "import pandas as pd\n",
    "from functions import *\n",
    "%matplotlib inline\n"
   ]
  },
  {
   "cell_type": "code",
   "execution_count": 2,
   "id": "c648f4b6-f62f-4bd8-9122-4480c7babfac",
   "metadata": {},
   "outputs": [],
   "source": [
    "#dow_jones = dow_jones()"
   ]
  },
  {
   "cell_type": "code",
   "execution_count": 3,
   "id": "e4377163-e5a9-4c49-a099-ebaab7a440dd",
   "metadata": {},
   "outputs": [],
   "source": [
    "#dow_jones = close(dow_jones)"
   ]
  },
  {
   "cell_type": "code",
   "execution_count": 4,
   "id": "253d0a88-8278-4109-b74b-b6c9e521d82a",
   "metadata": {},
   "outputs": [],
   "source": [
    "#dow_jones.plot()"
   ]
  },
  {
   "cell_type": "code",
   "execution_count": 5,
   "id": "913bf70c-5e48-4653-9e96-6fdab574cd3d",
   "metadata": {},
   "outputs": [],
   "source": [
    "gme = stock(\"GME\")\n",
    "goog = stock(\"GOOG\")\n",
    "tsla = stock(\"TSLA\")"
   ]
  },
  {
   "cell_type": "code",
   "execution_count": 6,
   "id": "72fdf8aa-071d-440a-8eef-dc8f778391e2",
   "metadata": {},
   "outputs": [
    {
     "data": {
      "text/plain": [
       "Date\n",
       "2017-08-24     46.063999\n",
       "2017-08-25     45.794498\n",
       "2017-08-28     45.690498\n",
       "2017-08-29     46.064499\n",
       "2017-08-30     46.478500\n",
       "                 ...    \n",
       "2022-08-17    120.320000\n",
       "2022-08-18    120.860001\n",
       "2022-08-19    118.120003\n",
       "2022-08-22    115.070000\n",
       "2022-08-23    114.769997\n",
       "Name: Close, Length: 1258, dtype: float64"
      ]
     },
     "execution_count": 6,
     "metadata": {},
     "output_type": "execute_result"
    }
   ],
   "source": [
    "gme = close(gme)\n",
    "goog = close(goog)\n",
    "gme\n",
    "goog\n",
    "close(gme, goog, tsla)"
   ]
  },
  {
   "cell_type": "code",
   "execution_count": null,
   "id": "733291de-3fd0-4301-894b-e736b77eb57b",
   "metadata": {},
   "outputs": [],
   "source": []
  },
  {
   "cell_type": "code",
   "execution_count": null,
   "id": "92a008c6-7244-41cb-ac04-3b02d7c8d20c",
   "metadata": {},
   "outputs": [],
   "source": []
  }
 ],
 "metadata": {
  "kernelspec": {
   "display_name": "Python 3 (ipykernel)",
   "language": "python",
   "name": "python3"
  },
  "language_info": {
   "codemirror_mode": {
    "name": "ipython",
    "version": 3
   },
   "file_extension": ".py",
   "mimetype": "text/x-python",
   "name": "python",
   "nbconvert_exporter": "python",
   "pygments_lexer": "ipython3",
   "version": "3.9.7"
  }
 },
 "nbformat": 4,
 "nbformat_minor": 5
}
