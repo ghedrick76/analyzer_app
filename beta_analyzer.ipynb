{
 "cells": [
  {
   "cell_type": "code",
   "execution_count": 1,
   "metadata": {
    "slideshow": {
     "slide_type": "slide"
    }
   },
   "outputs": [],
   "source": [
    "import pandas as pd # for dataframes\n",
    "import numpy as np # for NaN\n",
    "import yfinance as yf\n",
    "import matplotlib.pyplot as plt # for visualization\n",
    "import seaborn as sns\n",
    "import streamlit as st\n",
    "\n",
    "# Import CSV file of tickers\n",
    "tickers = pd.read_csv(\"untitled.csv\")['ACT Symbol']\n"
   ]
  },
  {
   "cell_type": "code",
   "execution_count": 2,
   "metadata": {},
   "outputs": [
    {
     "name": "stderr",
     "output_type": "stream",
     "text": [
      "2022-08-25 20:18:17.488 \n",
      "  \u001b[33m\u001b[1mWarning:\u001b[0m to view this Streamlit app on a browser, run it with the following\n",
      "  command:\n",
      "\n",
      "    streamlit run /opt/anaconda3/lib/python3.9/site-packages/ipykernel_launcher.py [ARGUMENTS]\n"
     ]
    },
    {
     "ename": "AttributeError",
     "evalue": "module 'streamlit' has no attribute 'input'",
     "output_type": "error",
     "traceback": [
      "\u001b[0;31m---------------------------------------------------------------------------\u001b[0m",
      "\u001b[0;31mAttributeError\u001b[0m                            Traceback (most recent call last)",
      "\u001b[0;32m/var/folders/ny/c9fv26ss65x2xh80_pf2dt8h0000gn/T/ipykernel_92399/1893082553.py\u001b[0m in \u001b[0;36m<module>\u001b[0;34m\u001b[0m\n\u001b[1;32m      1\u001b[0m \u001b[0mst\u001b[0m\u001b[0;34m.\u001b[0m\u001b[0mtitle\u001b[0m\u001b[0;34m(\u001b[0m\u001b[0;34m'Finance Dashboard'\u001b[0m\u001b[0;34m)\u001b[0m\u001b[0;34m\u001b[0m\u001b[0;34m\u001b[0m\u001b[0m\n\u001b[1;32m      2\u001b[0m \u001b[0;34m\u001b[0m\u001b[0m\n\u001b[0;32m----> 3\u001b[0;31m \u001b[0mtickers\u001b[0m \u001b[0;34m=\u001b[0m \u001b[0mst\u001b[0m\u001b[0;34m.\u001b[0m\u001b[0minput\u001b[0m\u001b[0;34m(\u001b[0m\u001b[0;34m\"Select your tickers\"\u001b[0m\u001b[0;34m)\u001b[0m\u001b[0;34m\u001b[0m\u001b[0;34m\u001b[0m\u001b[0m\n\u001b[0m\u001b[1;32m      4\u001b[0m \u001b[0;34m\u001b[0m\u001b[0m\n\u001b[1;32m      5\u001b[0m \u001b[0mdropdown\u001b[0m \u001b[0;34m=\u001b[0m \u001b[0mst\u001b[0m\u001b[0;34m.\u001b[0m\u001b[0mmultiselect\u001b[0m\u001b[0;34m(\u001b[0m\u001b[0;34m'Pick your assets'\u001b[0m\u001b[0;34m,\u001b[0m \u001b[0mtickers\u001b[0m\u001b[0;34m)\u001b[0m\u001b[0;34m\u001b[0m\u001b[0;34m\u001b[0m\u001b[0m\n",
      "\u001b[0;31mAttributeError\u001b[0m: module 'streamlit' has no attribute 'input'"
     ]
    }
   ],
   "source": [
    "st.title('Finance Dashboard')\n",
    "\n",
    "#tickers = st.input(\"Select your tickers\")\n",
    "\n",
    "dropdown = st.multiselect('Pick your assets', tickers)\n",
    "\n",
    "start = st.date_input('Start', value = pd.to_datetime('2012-01-01'))\n",
    "end = st.date_input('End', value = pd.to_datetime('today'))"
   ]
  },
  {
   "cell_type": "code",
   "execution_count": null,
   "metadata": {},
   "outputs": [],
   "source": [
    "def relativeret(df):\n",
    "    rel = df.pct_change()\n",
    "    cumret = (1+rel).cumprod() - 1\n",
    "    cumret = cumret.fillna(0)\n",
    "    return cumret\n",
    "\n",
    "if len(dropdown) > 0:\n",
    "    df = relativeret(yf.download(dropdown,start,end)['Close'])\n",
    "    st.header('Returns of {}'.format(dropdown))\n",
    "    st.line_chart(df)"
   ]
  },
  {
   "cell_type": "markdown",
   "metadata": {},
   "source": [
    "# What does the script do? \n"
   ]
  },
  {
   "cell_type": "markdown",
   "metadata": {},
   "source": [
    "Converts NB to .py\n",
    "`jupyter nbconvert   --to script YOURNAME.ipynb`\n",
    "\n",
    "\n",
    "\n",
    "Removes all ipython command (includes the call to the script)\n",
    "`awk '!/ipython/' YOURNAME.py >  temp.py && mv temp.py app.py && rm YOURNAME.py`\n",
    "\n",
    "\n",
    "Runs the local streamlit app\n",
    "`streamlit run app.py`"
   ]
  },
  {
   "cell_type": "code",
   "execution_count": null,
   "metadata": {},
   "outputs": [],
   "source": [
    "!jupyter nbconvert   --to script beta_analyzer.ipynb\n",
    "!awk '!/ipython/' beta_analyzer.py >  temp.py && mv temp.py app.py && rm beta_analyzer.py\n",
    "!streamlit run app.py"
   ]
  },
  {
   "cell_type": "code",
   "execution_count": null,
   "metadata": {},
   "outputs": [],
   "source": []
  }
 ],
 "metadata": {
  "kernelspec": {
   "display_name": "Python 3 (ipykernel)",
   "language": "python",
   "name": "python3"
  },
  "language_info": {
   "codemirror_mode": {
    "name": "ipython",
    "version": 3
   },
   "file_extension": ".py",
   "mimetype": "text/x-python",
   "name": "python",
   "nbconvert_exporter": "python",
   "pygments_lexer": "ipython3",
   "version": "3.9.7"
  },
  "vscode": {
   "interpreter": {
    "hash": "40d3a090f54c6569ab1632332b64b2c03c39dcf918b08424e98f38b5ae0af88f"
   }
  }
 },
 "nbformat": 4,
 "nbformat_minor": 4
}
