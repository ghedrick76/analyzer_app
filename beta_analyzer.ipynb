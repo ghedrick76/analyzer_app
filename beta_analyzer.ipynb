{
 "cells": [
  {
   "cell_type": "code",
   "execution_count": 1,
   "metadata": {
    "slideshow": {
     "slide_type": "slide"
    }
   },
   "outputs": [],
   "source": [
    "import pandas as pd # for dataframes\n",
    "import numpy as np # for NaN\n",
    "import yfinance as yf\n",
    "import matplotlib.pyplot as plt # for visualization\n",
    "import seaborn as sns\n",
    "import streamlit as st\n",
    "\n",
    "# Import CSV files for all tickers\n",
    "nyse = pd.read_csv(\"untitled.csv\")['ACT Symbol']\n",
    "nasdaq = pd.read_csv(\"nasdaq.csv\")['Symbol']\n",
    "\n",
    "# Combine the two datasets\n",
    "tickers = pd.concat([nyse,nasdaq]).drop_duplicates().reset_index(drop=True)"
   ]
  },
  {
   "cell_type": "code",
   "execution_count": 2,
   "metadata": {},
   "outputs": [
    {
     "name": "stderr",
     "output_type": "stream",
     "text": [
      "2022-08-26 18:36:02.822 \n",
      "  \u001b[33m\u001b[1mWarning:\u001b[0m to view this Streamlit app on a browser, run it with the following\n",
      "  command:\n",
      "\n",
      "    streamlit run /opt/anaconda3/lib/python3.9/site-packages/ipykernel_launcher.py [ARGUMENTS]\n"
     ]
    }
   ],
   "source": [
    "# Create the Streamlit instance\n",
    "st.title('Finance Dashboard')\n",
    "\n",
    "# Creates the dropdown box for the user to select tickers\n",
    "dropdown = st.multiselect('Select equities to chart', tickers)\n",
    "\n",
    "dropdown2 = st.multiselect('Calculate volatility ', tickers)\n",
    "\n",
    "\n",
    "# Sets the start and end dates\n",
    "start = st.date_input('Start', value = pd.to_datetime('2012-01-01'))\n",
    "end = st.date_input('End', value = pd.to_datetime('today'))\n"
   ]
  },
  {
   "cell_type": "code",
   "execution_count": 3,
   "metadata": {},
   "outputs": [],
   "source": [
    "# def relativeret(df):\n",
    "#     rel = df.pct_change()\n",
    "#     cumret = (1+rel).cumprod() - 1\n",
    "#     cumret = cumret.fillna(0)\n",
    "#     return cumret\n",
    "\n",
    "def returns(df):\n",
    "    returns = df\n",
    "    return returns\n",
    "\n",
    "def calc_vol(df):\n",
    "    df = df.pct_change()\n",
    "    volatility = df.std()*252**.5\n",
    "    return volatility\n",
    "\n",
    "if len(dropdown) > 0:\n",
    "    df = returns(yf.download(dropdown,start,end)['Close'])\n",
    "    st.header('Graph of {}'.format(dropdown))\n",
    "    st.line_chart(df)\n",
    "    \n",
    "if len(dropdown2) > 0:\n",
    "    df = calc_vol(yf.download(dropdown2,start,end)['Close'])\n",
    "    st.header('Volatility of {}'.format(dropdown2))\n",
    "    df\n",
    "    "
   ]
  },
  {
   "cell_type": "markdown",
   "metadata": {},
   "source": [
    "# What does the script do? \n"
   ]
  },
  {
   "cell_type": "markdown",
   "metadata": {},
   "source": [
    "Converts NB to .py\n",
    "`jupyter nbconvert   --to script YOURNAME.ipynb`\n",
    "\n",
    "\n",
    "\n",
    "Removes all ipython command (includes the call to the script)\n",
    "`awk '!/ipython/' YOURNAME.py >  temp.py && mv temp.py app.py && rm YOURNAME.py`\n",
    "\n",
    "\n",
    "Runs the local streamlit app\n",
    "`streamlit run app.py`"
   ]
  },
  {
   "cell_type": "code",
   "execution_count": null,
   "metadata": {},
   "outputs": [
    {
     "name": "stdout",
     "output_type": "stream",
     "text": [
      "[NbConvertApp] Converting notebook beta_analyzer.ipynb to script\n",
      "[NbConvertApp] Writing 2085 bytes to beta_analyzer.py\n",
      "2022-08-26 18:36:05.444 INFO    numexpr.utils: Note: NumExpr detected 12 cores but \"NUMEXPR_MAX_THREADS\" not set, so enforcing safe limit of 8.\n",
      "2022-08-26 18:36:05.444 INFO    numexpr.utils: NumExpr defaulting to 8 threads.\n",
      "\u001b[0m\n",
      "\u001b[34m\u001b[1m  You can now view your Streamlit app in your browser.\u001b[0m\n",
      "\u001b[0m\n",
      "\u001b[34m  Local URL: \u001b[0m\u001b[1mhttp://localhost:8502\u001b[0m\n",
      "\u001b[34m  Network URL: \u001b[0m\u001b[1mhttp://192.168.1.196:8502\u001b[0m\n",
      "\u001b[0m\n",
      "[*********************100%***********************]  1 of 1 completed\n",
      "2022-08-26 18:36:12.286 Uncaught app exception\n",
      "Traceback (most recent call last):\n",
      "  File \"/opt/anaconda3/lib/python3.9/site-packages/streamlit/scriptrunner/script_runner.py\", line 557, in _run_script\n",
      "    exec(code, module.__dict__)\n",
      "  File \"app.py\", line 63, in <module>\n",
      "    df = calc_vol(yf.download(dropdown2,start,end)['Close'])\n",
      "  File \"app.py\", line 54, in calc_vol\n",
      "    volatility = df.std()*252**.5\n",
      "AttributeError: 'function' object has no attribute 'std'\n"
     ]
    }
   ],
   "source": [
    "!jupyter nbconvert   --to script beta_analyzer.ipynb\n",
    "!awk '!/ipython/' beta_analyzer.py >  temp.py && mv temp.py app.py && rm beta_analyzer.py\n",
    "!streamlit run app.py"
   ]
  },
  {
   "cell_type": "code",
   "execution_count": null,
   "metadata": {},
   "outputs": [],
   "source": []
  }
 ],
 "metadata": {
  "kernelspec": {
   "display_name": "Python 3 (ipykernel)",
   "language": "python",
   "name": "python3"
  },
  "language_info": {
   "codemirror_mode": {
    "name": "ipython",
    "version": 3
   },
   "file_extension": ".py",
   "mimetype": "text/x-python",
   "name": "python",
   "nbconvert_exporter": "python",
   "pygments_lexer": "ipython3",
   "version": "3.9.7"
  },
  "vscode": {
   "interpreter": {
    "hash": "40d3a090f54c6569ab1632332b64b2c03c39dcf918b08424e98f38b5ae0af88f"
   }
  }
 },
 "nbformat": 4,
 "nbformat_minor": 4
}
