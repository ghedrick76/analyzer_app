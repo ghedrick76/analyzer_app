{
 "cells": [
  {
   "cell_type": "code",
   "execution_count": 1,
   "metadata": {
    "slideshow": {
     "slide_type": "slide"
    }
   },
   "outputs": [],
   "source": [
    "# Import required libraries\n",
    "import pandas as pd\n",
    "import numpy as np\n",
    "import yfinance as yf\n",
    "import matplotlib.pyplot as plt\n",
    "import seaborn as sns\n",
    "import streamlit as st\n",
    "\n",
    "# Import CSV files for all tickers\n",
    "nyse = pd.read_csv(\"untitled.csv\")['ACT Symbol']\n",
    "nasdaq = pd.read_csv(\"nasdaq.csv\")['Symbol']\n",
    "\n",
    "# Combine the two datasets\n",
    "tickers = pd.concat([nyse,nasdaq]).drop_duplicates().reset_index(drop=True)"
   ]
  },
  {
   "cell_type": "code",
   "execution_count": 2,
   "metadata": {},
   "outputs": [
    {
     "name": "stderr",
     "output_type": "stream",
     "text": [
      "2022-08-28 22:36:21.968 \n",
      "  \u001b[33m\u001b[1mWarning:\u001b[0m to view this Streamlit app on a browser, run it with the following\n",
      "  command:\n",
      "\n",
      "    streamlit run /opt/anaconda3/lib/python3.9/site-packages/ipykernel_launcher.py [ARGUMENTS]\n"
     ]
    }
   ],
   "source": [
    "# Create the Streamlit instance\n",
    "st.title('Finance Dashboard')\n",
    "\n",
    "\n",
    "# Creates the dropdown boxes for the user to select their tickers and desired functions\n",
    "dropdown = st.multiselect('Select equities to chart', tickers)\n",
    "\n",
    "dropdown2 = st.multiselect('Calculate volatility ', tickers)\n",
    "\n",
    "dropdown3 = st.multiselect('Calculate the beta of any two tickers', tickers)\n",
    "\n",
    "dropdown4 = st.multiselect(\"Plot Moving Averages\", tickers)\n",
    "window_size = [20, 50, 100, 200]\n",
    "\n",
    "\n",
    "# Sets the start and end dates\n",
    "start = st.date_input('Start', value = pd.to_datetime('2012-01-01'))\n",
    "end = st.date_input('End', value = pd.to_datetime('today'))\n"
   ]
  },
  {
   "cell_type": "code",
   "execution_count": 3,
   "metadata": {},
   "outputs": [],
   "source": [
    "# def relativeret(df):\n",
    "#     rel = df.pct_change()\n",
    "#     cumret = (1+rel).cumprod() - 1\n",
    "#     cumret = cumret.fillna(0)\n",
    "#     return cumret\n",
    "\n",
    "# Build functions for user actions\n",
    "\n",
    "# Graphs the ticker\n",
    "def returns(df):\n",
    "    returns = df\n",
    "    return returns\n",
    "\n",
    "# Calculates volatility of a ticker\n",
    "def calc_vol(df):\n",
    "    df = df.pct_change()\n",
    "    volatility = df.std()*252**.5\n",
    "    return volatility\n",
    "\n",
    "# Calculates beta of a ticker against whatever ticker is in the first position\n",
    "def calc_beta(df):\n",
    "    covariance = df.cov()\n",
    "    variance = df[dropdown3[1]].var()\n",
    "    covariance = covariance.loc[dropdown3[0], dropdown3[1]]/variance\n",
    "    return covariance\n",
    "\n",
    "# Calculates the moving averages of each ticker, based on selection of days\n",
    "def sma20(df):\n",
    "    rolling = df.rolling(window=20).mean()\n",
    "    return rolling\n",
    "def sma50(df):\n",
    "    rolling = df.rolling(window=50).mean()\n",
    "    return rolling\n",
    "def sma100(df):\n",
    "    rolling = df.rolling(window=100).mean()\n",
    "    return rolling\n",
    "def sma200(df):\n",
    "    rolling = df.rolling(window=200).mean()\n",
    "    return rolling\n",
    "\n",
    "\n",
    "\n",
    "# Conditionals for each desired function\n",
    "if len(dropdown) > 0:\n",
    "    df = returns(yf.download(dropdown,start,end)['Close'])\n",
    "    st.header('Graph of {}'.format(dropdown))\n",
    "    st.line_chart(df)\n",
    "    \n",
    "if len(dropdown2) > 0:\n",
    "    df = calc_vol(yf.download(dropdown2,start,end)['Close'])\n",
    "    st.header('Volatility of {}'.format(dropdown2))\n",
    "    df\n",
    "    \n",
    "if len(dropdown3) > 1:\n",
    "    df = calc_beta(yf.download(dropdown3,start,end)['Close'])\n",
    "    st.header(\"The beta of {} compared against {} is\".format(dropdown3[1], dropdown3[0]))\n",
    "    st.header(df)\n",
    "    \n",
    "    \n",
    "if len(dropdown4) > 0:\n",
    "    window_size = st.multiselect(\"Choose your window size\", window_size)\n",
    "    if 20 in window_size:\n",
    "            df = sma20(yf.download(dropdown4,start,end)['Close'])\n",
    "            st.header('20-day Moving Average of {}'.format(dropdown4))\n",
    "            st.line_chart(df)\n",
    "    if 50 in window_size:\n",
    "            df = sma50(yf.download(dropdown4,start,end)['Close'])\n",
    "            st.header('50 day Moving Average of {}'.format(dropdown4))\n",
    "            st.line_chart(df)\n",
    "    if 100 in window_size:\n",
    "            df = sma100(yf.download(dropdown4,start,end)['Close'])\n",
    "            st.header('100 day Moving Average of {}'.format(dropdown4))\n",
    "            st.line_chart(df)\n",
    "    if 200 in window_size:\n",
    "            df = sma200(yf.download(dropdown4,start,end)['Close'])\n",
    "            st.header('200 day Moving Average of {}'.format(dropdown4))\n",
    "            st.line_chart(df)"
   ]
  },
  {
   "cell_type": "code",
   "execution_count": 4,
   "metadata": {},
   "outputs": [],
   "source": [
    "# Start of stock Balance Sheet Form\n",
    "with st.form(key = \"form2\", clear_on_submit=True):\n",
    "    st.header(\"Company Financial Performance\")\n",
    "    #Creates user input field for stock ticker\n",
    "    user_input = st.text_input(\"Enter stock ticker i.e. AMZN, TSLA, AAPL, etc.\")\n",
    "    \n",
    "    # Takes user input and gets stock ticker\n",
    "    ticker_choice = yf.Ticker(user_input)\n",
    "    \n",
    "    filter_options = ['Annual','Quarterly']\n",
    "    \n",
    "    result_filter = st.multiselect(\"Report Type\",filter_options)\n",
    "    \n",
    "    # Shows stock quarterly balance sheet\n",
    "    def quarterly_data():\n",
    "        st.subheader(user_input + \"\"\" Quarterly Balance Sheet\"\"\")\n",
    "        stock_qtrly_balance = (ticker_choice.quarterly_balance_sheet)\n",
    "        stock_qtrly_balance\n",
    "    \n",
    "    # Shows stock annual balance sheet\n",
    "    def annual_data():\n",
    "        st.subheader(user_input + \"\"\" Annual Balance Sheet\"\"\")\n",
    "        stock_annual_balance = (ticker_choice.balance_sheet)\n",
    "        stock_annual_balance\n",
    "\n",
    "    # Generates button that executes 'quarterly_data()' and 'annual_data()' on user click \n",
    "    user_submit = st.form_submit_button(label = \"Submit\")\n",
    "    \n",
    "    if user_submit:\n",
    "        if 'Annual' in result_filter:\n",
    "            annual_data()\n",
    "    \n",
    "    if user_submit:\n",
    "        if \"Quarterly\" in result_filter:\n",
    "            quarterly_data()"
   ]
  },
  {
   "cell_type": "code",
   "execution_count": null,
   "metadata": {},
   "outputs": [],
   "source": [
    "\n",
    "    \n",
    "    \n",
    "    \n",
    "    \n",
    "\n"
   ]
  },
  {
   "cell_type": "code",
   "execution_count": 5,
   "metadata": {},
   "outputs": [],
   "source": [
    "# Conditionals for each desired function\n",
    "if len(dropdown) > 0:\n",
    "    df = returns(yf.download(dropdown,start,end)['Close'])\n",
    "    st.header('Graph of {}'.format(dropdown))\n",
    "    st.line_chart(df)\n",
    "    \n",
    "if len(dropdown2) > 0:\n",
    "    df = calc_vol(yf.download(dropdown2,start,end)['Close'])\n",
    "    st.header('Volatility of {}'.format(dropdown2))\n",
    "    df\n",
    "    \n",
    "if len(dropdown3) > 1:\n",
    "    df = calc_beta(yf.download(dropdown3,start,end)['Close'])\n",
    "    st.header(\"The beta of {} compared against {} is\".format(dropdown3[1], dropdown3[0]))\n",
    "    st.header(df)\n",
    "\n"
   ]
  },
  {
   "cell_type": "markdown",
   "metadata": {},
   "source": [
    "# What does the script do? \n"
   ]
  },
  {
   "cell_type": "markdown",
   "metadata": {},
   "source": [
    "Converts NB to .py\n",
    "`jupyter nbconvert   --to script YOURNAME.ipynb`\n",
    "\n",
    "\n",
    "\n",
    "Removes all ipython command (includes the call to the script)\n",
    "`awk '!/ipython/' YOURNAME.py >  temp.py && mv temp.py app.py && rm YOURNAME.py`\n",
    "\n",
    "\n",
    "Runs the local streamlit app\n",
    "`streamlit run app.py`"
   ]
  },
  {
   "cell_type": "code",
   "execution_count": null,
   "metadata": {},
   "outputs": [
    {
     "name": "stdout",
     "output_type": "stream",
     "text": [
      "[NbConvertApp] Converting notebook beta_analyzer.ipynb to script\n",
      "[NbConvertApp] Writing 6128 bytes to beta_analyzer.py\n",
      "2022-08-28 22:36:25.250 INFO    numexpr.utils: Note: NumExpr detected 12 cores but \"NUMEXPR_MAX_THREADS\" not set, so enforcing safe limit of 8.\n",
      "2022-08-28 22:36:25.250 INFO    numexpr.utils: NumExpr defaulting to 8 threads.\n",
      "\u001b[0m\n",
      "\u001b[34m\u001b[1m  You can now view your Streamlit app in your browser.\u001b[0m\n",
      "\u001b[0m\n",
      "\u001b[34m  Local URL: \u001b[0m\u001b[1mhttp://localhost:8501\u001b[0m\n",
      "\u001b[34m  Network URL: \u001b[0m\u001b[1mhttp://192.168.1.196:8501\u001b[0m\n",
      "\u001b[0m\n",
      "[*********************100%***********************]  1 of 1 completed\n",
      "[*********************100%***********************]  1 of 1 completed\n",
      "2022-08-28 22:36:36.480 Uncaught app exception\n",
      "Traceback (most recent call last):\n",
      "  File \"/opt/anaconda3/lib/python3.9/site-packages/streamlit/scriptrunner/script_runner.py\", line 557, in _run_script\n",
      "    exec(code, module.__dict__)\n",
      "  File \"app.py\", line 116, in <module>\n",
      "    st.altair_chart(a, b)\n",
      "  File \"/opt/anaconda3/lib/python3.9/site-packages/streamlit/elements/dataframe_selector.py\", line 337, in altair_chart\n",
      "    return self.dg._arrow_altair_chart(altair_chart, use_container_width)\n",
      "  File \"/opt/anaconda3/lib/python3.9/site-packages/streamlit/elements/arrow_altair.py\", line 244, in _arrow_altair_chart\n",
      "    marshall(\n",
      "  File \"/opt/anaconda3/lib/python3.9/site-packages/streamlit/elements/arrow_altair.py\", line 361, in marshall\n",
      "    chart_dict = altair_chart.to_dict()\n",
      "  File \"/opt/anaconda3/lib/python3.9/site-packages/streamlit/delta_generator.py\", line 328, in wrapper\n",
      "    raise StreamlitAPIException(message)\n",
      "streamlit.errors.StreamlitAPIException: `to_dict()` is not a valid Streamlit command.\n"
     ]
    }
   ],
   "source": [
    "!jupyter nbconvert   --to script beta_analyzer.ipynb\n",
    "!awk '!/ipython/' beta_analyzer.py >  temp.py && mv temp.py app.py && rm beta_analyzer.py\n",
    "!streamlit run app.py"
   ]
  },
  {
   "cell_type": "code",
   "execution_count": null,
   "metadata": {},
   "outputs": [],
   "source": []
  }
 ],
 "metadata": {
  "kernelspec": {
   "display_name": "Python 3 (ipykernel)",
   "language": "python",
   "name": "python3"
  },
  "language_info": {
   "codemirror_mode": {
    "name": "ipython",
    "version": 3
   },
   "file_extension": ".py",
   "mimetype": "text/x-python",
   "name": "python",
   "nbconvert_exporter": "python",
   "pygments_lexer": "ipython3",
   "version": "3.9.7"
  },
  "vscode": {
   "interpreter": {
    "hash": "40d3a090f54c6569ab1632332b64b2c03c39dcf918b08424e98f38b5ae0af88f"
   }
  }
 },
 "nbformat": 4,
 "nbformat_minor": 4
}
