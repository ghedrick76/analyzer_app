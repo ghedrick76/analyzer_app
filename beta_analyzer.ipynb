{
 "cells": [
  {
   "cell_type": "code",
   "execution_count": 2,
   "metadata": {
    "slideshow": {
     "slide_type": "slide"
    }
   },
   "outputs": [],
   "source": [
    "import pandas as pd # for dataframes\n",
    "import numpy as np # for NaN\n",
    "import yfinance as yf\n",
    "import matplotlib.pyplot as plt # for visualization\n",
    "import seaborn as sns\n",
    "import streamlit as st"
   ]
  },
  {
   "cell_type": "code",
   "execution_count": 3,
   "metadata": {},
   "outputs": [
    {
     "name": "stderr",
     "output_type": "stream",
     "text": [
      "2022-08-25 19:25:04.779 \n",
      "  \u001b[33m\u001b[1mWarning:\u001b[0m to view this Streamlit app on a browser, run it with the following\n",
      "  command:\n",
      "\n",
      "    streamlit run /Users/mustafahgreene/opt/anaconda3/envs/dev/lib/python3.9/site-packages/ipykernel_launcher.py [ARGUMENTS]\n"
     ]
    }
   ],
   "source": [
    "st.title('Finance Dashboard')\n",
    "\n",
    "tickers = ('ETH-USD', 'BTC-USD', 'IXIC', 'DJI', 'SPY')\n",
    "\n",
    "dropdown = st.multiselect('Pick your assets', tickers)\n",
    "\n",
    "start = st.date_input('Start', value = pd.to_datetime('2012-01-01'))\n",
    "end = st.date_input('End', value = pd.to_datetime('today'))"
   ]
  },
  {
   "cell_type": "code",
   "execution_count": 4,
   "metadata": {},
   "outputs": [],
   "source": [
    "def relativeret(df):\n",
    "    rel = df.pct_change()\n",
    "    cumret = (1+rel).cumprod() - 1\n",
    "    cumret = cumret.fillna(0)\n",
    "    return cumret\n",
    "\n",
    "if len(dropdown) > 0:\n",
    "    df = relativeret(yf.download(dropdown,start,end)['Adj Close'])\n",
    "    st.header('Returns of {}'.format(dropdown))\n",
    "    st.line_chart(df)"
   ]
  },
  {
   "cell_type": "markdown",
   "metadata": {},
   "source": [
    "# What does the script do? \n"
   ]
  },
  {
   "cell_type": "markdown",
   "metadata": {},
   "source": [
    "Converts NB to .py\n",
    "`jupyter nbconvert   --to script YOURNAME.ipynb`\n",
    "\n",
    "\n",
    "\n",
    "Removes all ipython command (includes the call to the script)\n",
    "`awk '!/ipython/' YOURNAME.py >  temp.py && mv temp.py app.py && rm YOURNAME.py`\n",
    "\n",
    "\n",
    "Runs the local streamlit app\n",
    "`streamlit run app.py`"
   ]
  },
  {
   "cell_type": "code",
   "execution_count": null,
   "metadata": {},
   "outputs": [
    {
     "name": "stdout",
     "output_type": "stream",
     "text": [
      "[NbConvertApp] Converting notebook beta_analyzer.ipynb to script\n",
      "[NbConvertApp] Writing 1410 bytes to beta_analyzer.py\n",
      "2022-08-25 19:25:13.862 INFO    numexpr.utils: Note: NumExpr detected 12 cores but \"NUMEXPR_MAX_THREADS\" not set, so enforcing safe limit of 8.\n",
      "2022-08-25 19:25:13.862 INFO    numexpr.utils: NumExpr defaulting to 8 threads.\n",
      "\u001b[0m\n",
      "\u001b[34m\u001b[1m  You can now view your Streamlit app in your browser.\u001b[0m\n",
      "\u001b[0m\n",
      "\u001b[34m  Local URL: \u001b[0m\u001b[1mhttp://localhost:8504\u001b[0m\n",
      "\u001b[34m  Network URL: \u001b[0m\u001b[1mhttp://192.168.1.93:8504\u001b[0m\n",
      "\u001b[0m\n",
      "\u001b[34m\u001b[1m  For better performance, install the Watchdog module:\u001b[0m\n",
      "\n",
      "  $ xcode-select --install\n",
      "  $ pip install watchdog\n",
      "            \u001b[0m\n",
      "[*********************100%***********************]  1 of 1 completed\n",
      "[*********************100%***********************]  2 of 2 completed\n"
     ]
    }
   ],
   "source": [
    "!jupyter nbconvert   --to script beta_analyzer.ipynb\n",
    "!awk '!/ipython/' beta_analyzer.py >  temp.py && mv temp.py app.py && rm beta_analyzer.py\n",
    "!streamlit run app.py"
   ]
  },
  {
   "cell_type": "code",
   "execution_count": null,
   "metadata": {},
   "outputs": [],
   "source": []
  }
 ],
 "metadata": {
  "kernelspec": {
   "display_name": "Python 3 (ipykernel)",
   "language": "python",
   "name": "python3"
  },
  "language_info": {
   "codemirror_mode": {
    "name": "ipython",
    "version": 3
   },
   "file_extension": ".py",
   "mimetype": "text/x-python",
   "name": "python",
   "nbconvert_exporter": "python",
   "pygments_lexer": "ipython3",
   "version": "3.9.12"
  }
 },
 "nbformat": 4,
 "nbformat_minor": 4
}
